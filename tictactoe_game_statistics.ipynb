{
 "cells": [
  {
   "cell_type": "code",
   "execution_count": 54,
   "id": "3c3d1bc0",
   "metadata": {},
   "outputs": [
    {
     "data": {
      "text/html": [
       "<div>\n",
       "<style scoped>\n",
       "    .dataframe tbody tr th:only-of-type {\n",
       "        vertical-align: middle;\n",
       "    }\n",
       "\n",
       "    .dataframe tbody tr th {\n",
       "        vertical-align: top;\n",
       "    }\n",
       "\n",
       "    .dataframe thead th {\n",
       "        text-align: right;\n",
       "    }\n",
       "</style>\n",
       "<table border=\"1\" class=\"dataframe\">\n",
       "  <thead>\n",
       "    <tr style=\"text-align: right;\">\n",
       "      <th></th>\n",
       "      <th>Round</th>\n",
       "      <th>Player1</th>\n",
       "      <th>Player2</th>\n",
       "      <th>Winner</th>\n",
       "    </tr>\n",
       "  </thead>\n",
       "  <tbody>\n",
       "    <tr>\n",
       "      <th>0</th>\n",
       "      <td>1</td>\n",
       "      <td>Mavis</td>\n",
       "      <td>Simran</td>\n",
       "      <td>Mavis</td>\n",
       "    </tr>\n",
       "    <tr>\n",
       "      <th>1</th>\n",
       "      <td>2</td>\n",
       "      <td>Mavis</td>\n",
       "      <td>Simran</td>\n",
       "      <td>Simran</td>\n",
       "    </tr>\n",
       "    <tr>\n",
       "      <th>2</th>\n",
       "      <td>3</td>\n",
       "      <td>Mavis</td>\n",
       "      <td>Simran</td>\n",
       "      <td>tie</td>\n",
       "    </tr>\n",
       "    <tr>\n",
       "      <th>3</th>\n",
       "      <td>4</td>\n",
       "      <td>Mavis</td>\n",
       "      <td>Simran</td>\n",
       "      <td>tie</td>\n",
       "    </tr>\n",
       "    <tr>\n",
       "      <th>4</th>\n",
       "      <td>5</td>\n",
       "      <td>Mavis</td>\n",
       "      <td>Simran</td>\n",
       "      <td>tie</td>\n",
       "    </tr>\n",
       "    <tr>\n",
       "      <th>5</th>\n",
       "      <td>6</td>\n",
       "      <td>Mavis</td>\n",
       "      <td>Simran</td>\n",
       "      <td>Simran</td>\n",
       "    </tr>\n",
       "    <tr>\n",
       "      <th>6</th>\n",
       "      <td>7</td>\n",
       "      <td>Mavis</td>\n",
       "      <td>Simran</td>\n",
       "      <td>Mavis</td>\n",
       "    </tr>\n",
       "    <tr>\n",
       "      <th>7</th>\n",
       "      <td>8</td>\n",
       "      <td>Mavis</td>\n",
       "      <td>Simran</td>\n",
       "      <td>Simran</td>\n",
       "    </tr>\n",
       "    <tr>\n",
       "      <th>8</th>\n",
       "      <td>9</td>\n",
       "      <td>Mavis</td>\n",
       "      <td>Simran</td>\n",
       "      <td>Simran</td>\n",
       "    </tr>\n",
       "    <tr>\n",
       "      <th>9</th>\n",
       "      <td>10</td>\n",
       "      <td>Mavis</td>\n",
       "      <td>Simran</td>\n",
       "      <td>Mavis</td>\n",
       "    </tr>\n",
       "    <tr>\n",
       "      <th>10</th>\n",
       "      <td>11</td>\n",
       "      <td>Mavis</td>\n",
       "      <td>Simran</td>\n",
       "      <td>Mavis</td>\n",
       "    </tr>\n",
       "    <tr>\n",
       "      <th>11</th>\n",
       "      <td>12</td>\n",
       "      <td>Mavis</td>\n",
       "      <td>Simran</td>\n",
       "      <td>Simran</td>\n",
       "    </tr>\n",
       "    <tr>\n",
       "      <th>12</th>\n",
       "      <td>13</td>\n",
       "      <td>Simran</td>\n",
       "      <td>Mavis</td>\n",
       "      <td>Mavis</td>\n",
       "    </tr>\n",
       "    <tr>\n",
       "      <th>13</th>\n",
       "      <td>14</td>\n",
       "      <td>Simran</td>\n",
       "      <td>Mavis</td>\n",
       "      <td>Mavis</td>\n",
       "    </tr>\n",
       "    <tr>\n",
       "      <th>14</th>\n",
       "      <td>15</td>\n",
       "      <td>Simran</td>\n",
       "      <td>Mavis</td>\n",
       "      <td>Mavis</td>\n",
       "    </tr>\n",
       "    <tr>\n",
       "      <th>15</th>\n",
       "      <td>16</td>\n",
       "      <td>Simran</td>\n",
       "      <td>Mavis</td>\n",
       "      <td>tie</td>\n",
       "    </tr>\n",
       "    <tr>\n",
       "      <th>16</th>\n",
       "      <td>17</td>\n",
       "      <td>Simran</td>\n",
       "      <td>Mavis</td>\n",
       "      <td>tie</td>\n",
       "    </tr>\n",
       "    <tr>\n",
       "      <th>17</th>\n",
       "      <td>18</td>\n",
       "      <td>Simran</td>\n",
       "      <td>Mavis</td>\n",
       "      <td>tie</td>\n",
       "    </tr>\n",
       "    <tr>\n",
       "      <th>18</th>\n",
       "      <td>19</td>\n",
       "      <td>Simran</td>\n",
       "      <td>Mavis</td>\n",
       "      <td>tie</td>\n",
       "    </tr>\n",
       "  </tbody>\n",
       "</table>\n",
       "</div>"
      ],
      "text/plain": [
       "    Round Player1 Player2  Winner\n",
       "0       1   Mavis  Simran   Mavis\n",
       "1       2   Mavis  Simran  Simran\n",
       "2       3   Mavis  Simran     tie\n",
       "3       4   Mavis  Simran     tie\n",
       "4       5   Mavis  Simran     tie\n",
       "5       6   Mavis  Simran  Simran\n",
       "6       7   Mavis  Simran   Mavis\n",
       "7       8   Mavis  Simran  Simran\n",
       "8       9   Mavis  Simran  Simran\n",
       "9      10   Mavis  Simran   Mavis\n",
       "10     11   Mavis  Simran   Mavis\n",
       "11     12   Mavis  Simran  Simran\n",
       "12     13  Simran   Mavis   Mavis\n",
       "13     14  Simran   Mavis   Mavis\n",
       "14     15  Simran   Mavis   Mavis\n",
       "15     16  Simran   Mavis     tie\n",
       "16     17  Simran   Mavis     tie\n",
       "17     18  Simran   Mavis     tie\n",
       "18     19  Simran   Mavis     tie"
      ]
     },
     "execution_count": 54,
     "metadata": {},
     "output_type": "execute_result"
    }
   ],
   "source": [
    "import pandas as pd\n",
    "import numpy as np\n",
    "import matplotlib.pyplot as plt\n",
    "path = \"tictactoe.csv\"\n",
    "db = pd.read_csv(path, index_col=0)\n",
    "db"
   ]
  },
  {
   "cell_type": "code",
   "execution_count": 66,
   "id": "5df8fcd9",
   "metadata": {},
   "outputs": [
    {
     "name": "stdout",
     "output_type": "stream",
     "text": [
      "Mavis win against Simran 36.84210526315789% of the time\n",
      "None\n"
     ]
    }
   ],
   "source": [
    "#who win the most?\n",
    "Sdata = db[db[\"Winner\"] == \"Simran\"]\n",
    "Mdata = db[db[\"Winner\"] == \"Mavis\"]\n",
    "Tdata = db[db[\"Winner\"] == \"tie\"]\n",
    "nSwin = len(Sdata)\n",
    "nMwin = len(Mdata)\n",
    "nT = len(Tdata)\n",
    "MwinPercent = (nMwin / len(db[\"Winner\"]))*100\n",
    "print(print(f\"Mavis win against Simran {MwinPercent}% of the time\"))\n"
   ]
  },
  {
   "cell_type": "code",
   "execution_count": 67,
   "id": "0231d23a",
   "metadata": {},
   "outputs": [
    {
     "data": {
      "image/png": "[encoded data removed]",
      "text/plain": [
       "<Figure size 640x480 with 1 Axes>"
      ]
     },
     "metadata": {},
     "output_type": "display_data"
    }
   ],
   "source": [
    "#Pie Chart\n",
    "labels = (\"Mavis\", \"Simran\", 'Tie')\n",
    "wins = (nMwin, nSwin, nT)\n",
    "fig, ax = plt.subplots()\n",
    "ax.pie(wins, labels=labels)\n",
    "plt.show()\n"
   ]
  },
  {
   "cell_type": "code",
   "execution_count": 68,
   "id": "7a43970c",
   "metadata": {},
   "outputs": [
    {
     "data": {
      "image/png": "[encoded data removed]",
      "text/plain": [
       "<Figure size 640x480 with 1 Axes>"
      ]
     },
     "metadata": {},
     "output_type": "display_data"
    }
   ],
   "source": [
    "#Bar Chart\n",
    "y = [nMwin, nSwin, nT]\n",
    "x = [\"Mavis Wins\", \"Simran Wins\", \"Tie\"]\n",
    "fig, ax = plt.subplots()\n",
    "ax.bar(x, y)\n",
    "plt.show()"
   ]
  },
  {
   "cell_type": "code",
   "execution_count": 65,
   "id": "133faa95",
   "metadata": {},
   "outputs": [
    {
     "name": "stdout",
     "output_type": "stream",
     "text": [
      "Tie happens 36.84210526315789% of the time\n",
      "None\n"
     ]
    }
   ],
   "source": [
    "#The percentage of Tie\n",
    "Sdata = db[db[\"Winner\"] == \"Simran\"]\n",
    "Mdata = db[db[\"Winner\"] == \"Mavis\"]\n",
    "Tdata = db[db[\"Winner\"] == \"tie\"]\n",
    "nSwin = len(Sdata)\n",
    "nMwin = len(Mdata)\n",
    "nT = len(Tdata)\n",
    "TiePercent = (nT / len(db[\"Winner\"]))*100\n",
    "print(print(f\"Tie happens {TiePercent}% of the time\"))"
   ]
  },
  {
   "cell_type": "code",
   "execution_count": null,
   "id": "f4d40f6c",
   "metadata": {},
   "outputs": [],
   "source": []
  }
 ],
 "metadata": {
  "kernelspec": {
   "display_name": "Python 3.9.6 64-bit",
   "language": "python",
   "name": "python3"
  },
  "language_info": {
   "codemirror_mode": {
    "name": "ipython",
    "version": 3
   },
   "file_extension": ".py",
   "mimetype": "text/x-python",
   "name": "python",
   "nbconvert_exporter": "python",
   "pygments_lexer": "ipython3",
   "version": "3.9.6"
  },
  "vscode": {
   "interpreter": {
    "hash": "31f2aee4e71d21fbe5cf8b01ff0e069b9275f58929596ceb00d14d90e3e16cd6"
   }
  }
 },
 "nbformat": 4,
 "nbformat_minor": 5
}
